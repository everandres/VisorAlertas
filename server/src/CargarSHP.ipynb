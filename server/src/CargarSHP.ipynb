{
 "cells": [
  {
   "cell_type": "code",
   "execution_count": 9,
   "id": "1dee4944",
   "metadata": {},
   "outputs": [],
   "source": [
    "import pandas as pd\n",
    "from sqlalchemy import create_engine\n",
    "import psycopg2\n",
    "import geopandas as gpd\n",
    "from geoalchemy2 import Geometry\n",
    "import shapely.wkb as wkb"
   ]
  },
  {
   "cell_type": "code",
   "execution_count": 10,
   "id": "05def9cb",
   "metadata": {},
   "outputs": [],
   "source": [
    "# Crear una conexión a la base de datos\n",
    "usuario = 'postgres'\n",
    "contraseña = 'Septiembre0672'\n",
    "host = 'localhost'\n",
    "puerto = '5432'\n",
    "db = 'alertas'\n",
    "url_conexion = f'postgresql://{usuario}:{contraseña}@{host}:{puerto}/{db}'"
   ]
  },
  {
   "cell_type": "code",
   "execution_count": 11,
   "id": "e4b6f7d8",
   "metadata": {},
   "outputs": [],
   "source": [
    "def cargar_departamentos(gdf, url_conexion):\n",
    "    # Carga tu archivo SHP\n",
    "    gdf = gdf.rename(columns=str.lower)\n",
    "    # Configura la conexión a tu base de datos\n",
    "    engine = create_engine(url_conexion)\n",
    "    # Convertir la columna de geometría a WKB\n",
    "    gdf['geometry'] = gdf['geometry'].apply(lambda x: wkb.dumps(x, hex=True))\n",
    "    gdf = gdf.rename(columns={'geometry': 'geom'})\n",
    "   \n",
    "    return gdf.to_sql('departamentos_wgs84', engine, if_exists='replace', index=False, \n",
    "           dtype={'geom': Geometry(geometry_type='GEOMETRY', srid=4326)})\n"
   ]
  },
  {
   "cell_type": "code",
   "execution_count": 12,
   "id": "d4e2402c",
   "metadata": {},
   "outputs": [],
   "source": [
    "gdf_departamentos = gpd.read_file(r'C:\\Users\\Ever Salazar\\Documents\\VisorAlertas\\server\\src\\Departamentos_WGS84\\Departamentos_WGS84.shp')"
   ]
  },
  {
   "cell_type": "code",
   "execution_count": 13,
   "id": "2a8ad610",
   "metadata": {},
   "outputs": [
    {
     "name": "stderr",
     "output_type": "stream",
     "text": [
      "C:\\Users\\Ever Salazar\\AppData\\Local\\Temp\\ipykernel_32820\\2698057151.py:7: UserWarning: Geometry column does not contain geometry.\n",
      "  gdf['geometry'] = gdf['geometry'].apply(lambda x: wkb.dumps(x, hex=True))\n"
     ]
    },
    {
     "data": {
      "text/plain": [
       "93"
      ]
     },
     "execution_count": 13,
     "metadata": {},
     "output_type": "execute_result"
    }
   ],
   "source": [
    "cargar_departamentos(gdf_departamentos, url_conexion)"
   ]
  },
  {
   "cell_type": "code",
   "execution_count": 18,
   "id": "383989ef",
   "metadata": {},
   "outputs": [],
   "source": [
    "def cargar_municipios(gdf, url_conexion):\n",
    "    # Carga tu archivo SHP\n",
    "    gdf = gdf.rename(columns=str.lower)\n",
    "    # Configura la conexión a tu base de datos\n",
    "    engine = create_engine(url_conexion)\n",
    "    # Convertir la columna de geometría a WKB\n",
    "    gdf['geometry'] = gdf['geometry'].apply(lambda x: wkb.dumps(x, hex=True))\n",
    "    gdf = gdf.rename(columns={'geometry': 'geom'})\n",
    "   \n",
    "    return gdf.to_sql('mgn_mpio_politico', engine, if_exists='replace', index=False, \n",
    "           dtype={'geom': Geometry(geometry_type='GEOMETRY', srid=4326)})"
   ]
  },
  {
   "cell_type": "code",
   "execution_count": 19,
   "id": "c4d9c10f",
   "metadata": {},
   "outputs": [],
   "source": [
    "gdf_municipios = gpd.read_file(r'C:\\Users\\Ever Salazar\\Documents\\VisorAlertas\\server\\src\\MGN_MPIO_POLITICO\\MGN_MPIO_POLITICO.shp')"
   ]
  },
  {
   "cell_type": "code",
   "execution_count": 21,
   "id": "02b7219f",
   "metadata": {},
   "outputs": [
    {
     "name": "stderr",
     "output_type": "stream",
     "text": [
      "C:\\Users\\Ever Salazar\\AppData\\Local\\Temp\\ipykernel_32820\\2337402093.py:7: UserWarning: Geometry column does not contain geometry.\n",
      "  gdf['geometry'] = gdf['geometry'].apply(lambda x: wkb.dumps(x, hex=True))\n"
     ]
    },
    {
     "data": {
      "text/plain": [
       "121"
      ]
     },
     "execution_count": 21,
     "metadata": {},
     "output_type": "execute_result"
    }
   ],
   "source": [
    "cargar_municipios(gdf_municipios, url_conexion)"
   ]
  },
  {
   "cell_type": "code",
   "execution_count": null,
   "id": "b2913f3b",
   "metadata": {},
   "outputs": [],
   "source": []
  }
 ],
 "metadata": {
  "kernelspec": {
   "display_name": "Python 3 (ipykernel)",
   "language": "python",
   "name": "python3"
  },
  "language_info": {
   "codemirror_mode": {
    "name": "ipython",
    "version": 3
   },
   "file_extension": ".py",
   "mimetype": "text/x-python",
   "name": "python",
   "nbconvert_exporter": "python",
   "pygments_lexer": "ipython3",
   "version": "3.11.5"
  }
 },
 "nbformat": 4,
 "nbformat_minor": 5
}
