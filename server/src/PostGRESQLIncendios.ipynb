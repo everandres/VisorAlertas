{
 "cells": [
  {
   "cell_type": "code",
   "execution_count": 18,
   "id": "fdb65cf6",
   "metadata": {},
   "outputs": [],
   "source": [
    "import pandas as pd\n",
    "from sqlalchemy import create_engine\n",
    "import psycopg2"
   ]
  },
  {
   "cell_type": "code",
   "execution_count": 19,
   "id": "cb906202",
   "metadata": {},
   "outputs": [],
   "source": [
    "# Leer el archivo CSV\n",
    "df_incendios = pd.read_csv(r'G:\\Mi unidad\\OSPA\\01. Tematicas\\04. Incendios\\01. Productos\\postmodelo_icv\\temporales\\probabilidad_icv.csv', sep=';', encoding='utf-8')\n",
    "df_deslizamientos = pd.read_csv(r'G:\\Mi unidad\\OSPA\\01. Tematicas\\03. Deslizamientos\\01. Productos\\postmodelo_idd\\temporales\\probabilidad_idd.csv', sep=';', encoding='utf-8')"
   ]
  },
  {
   "cell_type": "code",
   "execution_count": 20,
   "id": "0f522951",
   "metadata": {},
   "outputs": [],
   "source": [
    "# Crear una conexión a la base de datos\n",
    "usuario = 'postgres'\n",
    "contraseña = 'Septiembre0672'\n",
    "host = 'localhost'\n",
    "puerto = '5432'\n",
    "db = 'alertas'\n",
    "url_conexion = f'postgresql://{usuario}:{contraseña}@{host}:{puerto}/{db}'"
   ]
  },
  {
   "cell_type": "code",
   "execution_count": 21,
   "id": "bab721d6",
   "metadata": {},
   "outputs": [],
   "source": [
    "def alertas_incendios(url, df_incendios):\n",
    "    try:\n",
    "        engine = create_engine(url_conexion)\n",
    "        return df_incendios.to_sql('incendios', con=engine, if_exists='replace', index=False)\n",
    "    except:\n",
    "        engine = create_engine(url_conexion)\n",
    "        # Eliminar los registros existentes de la tabla 'incendios'\n",
    "        with engine.connect() as conn:\n",
    "            conn.execute(\"DELETE FROM incendios\")\n",
    "        return df_incendios.to_sql('incendios', con=engine, if_exists='append', index=False)"
   ]
  },
  {
   "cell_type": "code",
   "execution_count": 22,
   "id": "1f119955",
   "metadata": {},
   "outputs": [],
   "source": [
    "alertas_incendios(url_conexion, df_incendios)"
   ]
  },
  {
   "cell_type": "code",
   "execution_count": 23,
   "id": "1c1db704",
   "metadata": {},
   "outputs": [],
   "source": [
    "#engine = create_engine(url_conexion)"
   ]
  },
  {
   "cell_type": "code",
   "execution_count": 24,
   "id": "aebce90a",
   "metadata": {},
   "outputs": [],
   "source": [
    "# Eliminar los registros existentes de la tabla 'incendios'\n",
    "# with engine.connect() as conn:\n",
    "#     conn.execute(\"DELETE FROM incendios\")"
   ]
  },
  {
   "cell_type": "code",
   "execution_count": 25,
   "id": "da0d47ca",
   "metadata": {},
   "outputs": [],
   "source": [
    "# df_incendios.to_sql('incendios', con=engine, if_exists='append', index=False)"
   ]
  },
  {
   "cell_type": "code",
   "execution_count": 26,
   "id": "1c69b095",
   "metadata": {},
   "outputs": [],
   "source": [
    "def alertas_deslizamientos(url, df_deslizamientos):\n",
    "    try:\n",
    "        engine = create_engine(url_conexion)\n",
    "        return df_deslizamientos.to_sql('deslizamientos', con=engine, if_exists='replace', index=False)\n",
    "    except:\n",
    "        engine = create_engine(url_conexion)\n",
    "        # Eliminar los registros existentes de la tabla 'incendios'\n",
    "        with engine.connect() as conn:\n",
    "            conn.execute(\"DELETE FROM deslizamientos\")\n",
    "        return df_deslizamientos.to_sql('deslizamientos', con=engine, if_exists='append', index=False)"
   ]
  },
  {
   "cell_type": "code",
   "execution_count": 27,
   "id": "ad569105",
   "metadata": {},
   "outputs": [],
   "source": [
    "alertas_deslizamientos(url_conexion, df_deslizamientos)"
   ]
  },
  {
   "cell_type": "code",
   "execution_count": 13,
   "id": "f6dcfabf",
   "metadata": {},
   "outputs": [],
   "source": [
    "# engine_2 = create_engine(url_conexion)"
   ]
  },
  {
   "cell_type": "code",
   "execution_count": 14,
   "id": "f600829b",
   "metadata": {},
   "outputs": [],
   "source": [
    "# # Eliminar los registros existentes de la tabla 'incendios'\n",
    "# with engine_2.connect() as conn:\n",
    "#     conn.execute(\"DELETE FROM deslizamientos\")"
   ]
  },
  {
   "cell_type": "code",
   "execution_count": 15,
   "id": "babd4151",
   "metadata": {},
   "outputs": [],
   "source": [
    "# df_deslizamientos.to_sql('deslizamientos', con=engine, if_exists='append', index=False)"
   ]
  },
  {
   "cell_type": "code",
   "execution_count": null,
   "id": "3ab11286",
   "metadata": {},
   "outputs": [],
   "source": []
  }
 ],
 "metadata": {
  "kernelspec": {
   "display_name": "Python 3",
   "language": "python",
   "name": "python3"
  },
  "language_info": {
   "codemirror_mode": {
    "name": "ipython",
    "version": 3
   },
   "file_extension": ".py",
   "mimetype": "text/x-python",
   "name": "python",
   "nbconvert_exporter": "python",
   "pygments_lexer": "ipython3",
   "version": "3.8.8"
  }
 },
 "nbformat": 4,
 "nbformat_minor": 5
}
