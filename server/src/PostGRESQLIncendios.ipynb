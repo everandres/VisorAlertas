{
 "cells": [
  {
   "cell_type": "code",
   "execution_count": 1,
   "id": "fdb65cf6",
   "metadata": {},
   "outputs": [],
   "source": [
    "import pandas as pd\n",
    "from sqlalchemy import create_engine\n",
    "import psycopg2\n",
    "import geopandas as gpd\n",
    "from geoalchemy2 import Geometry\n",
    "import shapely.wkb as wkb\n"
   ]
  },
  {
   "cell_type": "code",
   "execution_count": 2,
   "id": "cb906202",
   "metadata": {},
   "outputs": [],
   "source": [
    "# Leer el archivo CSV\n",
    "df_incendios = pd.read_csv(r'G:\\Mi unidad\\OSPA\\01. Tematicas\\04. Incendios\\01. Productos\\postmodelo_icv\\temporales\\probabilidad_icv.csv', sep=';', encoding='utf-8')\n",
    "df_deslizamientos = pd.read_csv(r'G:\\Mi unidad\\OSPA\\01. Tematicas\\03. Deslizamientos\\01. Productos\\postmodelo_idd\\temporales\\probabilidad_idd.csv', sep=';', encoding='utf-8')\n"
   ]
  },
  {
   "cell_type": "code",
   "execution_count": 3,
   "id": "0f522951",
   "metadata": {},
   "outputs": [],
   "source": [
    "# Crear una conexión a la base de datos\n",
    "usuario = 'postgres'\n",
    "contraseña = 'Septiembre0672'\n",
    "host = 'localhost'\n",
    "puerto = '5432'\n",
    "db = 'alertas'\n",
    "url_conexion = f'postgresql://{usuario}:{contraseña}@{host}:{puerto}/{db}'"
   ]
  },
  {
   "cell_type": "code",
   "execution_count": 4,
   "id": "bab721d6",
   "metadata": {},
   "outputs": [],
   "source": [
    "def alertas_incendios(url, df_incendios):\n",
    "    try:\n",
    "        engine = create_engine(url_conexion)\n",
    "        return df_incendios.to_sql('incendios', con=engine, if_exists='replace', index=False)\n",
    "    except:\n",
    "        engine = create_engine(url_conexion)\n",
    "        # Eliminar los registros existentes de la tabla 'incendios'\n",
    "        with engine.connect() as conn:\n",
    "            conn.execute(\"DELETE FROM incendios\")\n",
    "        return df_incendios.to_sql('incendios', con=engine, if_exists='append', index=False)"
   ]
  },
  {
   "cell_type": "code",
   "execution_count": 5,
   "id": "1f119955",
   "metadata": {},
   "outputs": [
    {
     "data": {
      "text/plain": [
       "59"
      ]
     },
     "execution_count": 5,
     "metadata": {},
     "output_type": "execute_result"
    }
   ],
   "source": [
    "alertas_incendios(url_conexion, df_incendios)"
   ]
  },
  {
   "cell_type": "code",
   "execution_count": 6,
   "id": "1c69b095",
   "metadata": {},
   "outputs": [],
   "source": [
    "def alertas_deslizamientos(url, df_deslizamientos):\n",
    "    try:\n",
    "        engine = create_engine(url_conexion)\n",
    "        return df_deslizamientos.to_sql('deslizamientos', con=engine, if_exists='replace', index=False)\n",
    "    except:\n",
    "        engine = create_engine(url_conexion)\n",
    "        # Eliminar los registros existentes de la tabla 'incendios'\n",
    "        with engine.connect() as conn:\n",
    "            conn.execute(\"DELETE FROM deslizamientos\")\n",
    "        return df_deslizamientos.to_sql('deslizamientos', con=engine, if_exists='append', index=False)"
   ]
  },
  {
   "cell_type": "code",
   "execution_count": 7,
   "id": "ad569105",
   "metadata": {},
   "outputs": [
    {
     "data": {
      "text/plain": [
       "81"
      ]
     },
     "execution_count": 7,
     "metadata": {},
     "output_type": "execute_result"
    }
   ],
   "source": [
    "alertas_deslizamientos(url_conexion, df_deslizamientos)"
   ]
  },
  {
   "cell_type": "code",
   "execution_count": 8,
   "id": "8798f6eb",
   "metadata": {},
   "outputs": [],
   "source": [
    "def vista_departamentos(url_conexion):\n",
    "    \n",
    "    engine = create_engine(url_conexion)\n",
    "    \n",
    "    create_view_sql = \"\"\"\n",
    "CREATE OR REPLACE VIEW departamentos_colombia AS\n",
    "SELECT departamen, jsonb_build_object(\n",
    "  'type',       'Feature',\n",
    "  'geometry',   ST_AsGeoJSON(geom, 4)::jsonb,\n",
    "  'properties', jsonb_build_object(\n",
    "    'DEPARTAMENTO', departamen\n",
    "  )\n",
    ") AS geom\n",
    "FROM public.departamentos_wgs84\n",
    "\n",
    "\"\"\"\n",
    "    try:\n",
    "        with engine.connect() as conn:\n",
    "            conn.execute(create_view_sql)\n",
    "            return(\"Vista creada exitosamente.\")\n",
    "    except SQLAlchemyError as e:\n",
    "        return(f\"Error al crear la vista: {e}\")"
   ]
  },
  {
   "cell_type": "code",
   "execution_count": 9,
   "id": "af0a9950",
   "metadata": {},
   "outputs": [
    {
     "data": {
      "text/plain": [
       "'Vista creada exitosamente.'"
      ]
     },
     "execution_count": 9,
     "metadata": {},
     "output_type": "execute_result"
    }
   ],
   "source": [
    "vista_departamentos(url_conexion)"
   ]
  },
  {
   "cell_type": "code",
   "execution_count": 10,
   "id": "deda3a71",
   "metadata": {},
   "outputs": [],
   "source": [
    "def vista_deslizamientos(url_conexion):\n",
    "    \n",
    "    engine = create_engine(url_conexion)\n",
    "    \n",
    "    create_view_sql = \"\"\"\n",
    "CREATE OR REPLACE VIEW alertas_deslizamientos AS\n",
    "SELECT d.*,\n",
    "jsonb_build_object(\n",
    "  'type', 'Feature',\n",
    "  'geometry', ST_AsGeoJSON(ST_GeometryN(mg.geom, 1), 4)::jsonb,\n",
    "  'properties', jsonb_build_object(\n",
    "    'PROBABILIDAD_DESC', CASE\n",
    "                           WHEN d.\"PROBABILIDAD\" = 1 THEN 'BAJA'\n",
    "                           WHEN d.\"PROBABILIDAD\" = 2 THEN 'MEDIA'\n",
    "                           WHEN d.\"PROBABILIDAD\" = 3 THEN 'ALTA'\n",
    "                           ELSE 'no definida' -- Opcional: para valores distintos de 1, 2 o 3\n",
    "                         END,\n",
    "    'PROBABILIDAD', d.\"PROBABILIDAD\",\n",
    "    'REGION', d.\"REGION\",\n",
    "    'DEPARTAMENTO', d.\"DEPARTAMENTO\",\n",
    "    'MUNICIPIO', d.\"MUNICIPIO\",\n",
    "\t  'FECHA_EJECUCION', d.\"FECHA_EJECUCION\"\n",
    "  )\n",
    ") AS geom\n",
    "FROM deslizamientos AS d\n",
    "INNER JOIN mgn_mpio_politico AS mg\n",
    "ON d.\"COD_DANE\" = mg.mpio_cdpmp;\n",
    "\n",
    "\"\"\"\n",
    "    try:\n",
    "        with engine.connect() as conn:\n",
    "            conn.execute(create_view_sql)\n",
    "            return(\"Vista creada exitosamente.\")\n",
    "    except SQLAlchemyError as e:\n",
    "        return(f\"Error al crear la vista: {e}\")"
   ]
  },
  {
   "cell_type": "code",
   "execution_count": 11,
   "id": "4ed0827b",
   "metadata": {},
   "outputs": [
    {
     "data": {
      "text/plain": [
       "'Vista creada exitosamente.'"
      ]
     },
     "execution_count": 11,
     "metadata": {},
     "output_type": "execute_result"
    }
   ],
   "source": [
    "vista_deslizamientos(url_conexion)"
   ]
  },
  {
   "cell_type": "code",
   "execution_count": 12,
   "id": "bcc5f476",
   "metadata": {},
   "outputs": [],
   "source": [
    "def vista_incendios(url_conexion):\n",
    "    \n",
    "    engine = create_engine(url_conexion)\n",
    "    \n",
    "    create_view_sql = \"\"\"\n",
    "CREATE OR REPLACE VIEW alertas_incendios AS\n",
    "SELECT i.*, jsonb_build_object(\n",
    "  'type',       'Feature',\n",
    "  'geometry',   ST_AsGeoJSON(ST_GeometryN(mg.geom, 1), 4)::jsonb,\n",
    "  'properties', jsonb_build_object(\n",
    "\t 'PROBABILIDAD_DESC', CASE\n",
    "                           WHEN i.\"PROBABILIDAD\" = 1 THEN 'BAJA'\n",
    "                           WHEN i.\"PROBABILIDAD\" = 2 THEN 'MEDIA'\n",
    "                           WHEN i.\"PROBABILIDAD\" = 3 THEN 'ALTA'\n",
    "                           ELSE 'no definida' -- Opcional: para valores distintos de 1, 2 o 3\n",
    "                         END,\n",
    "    'PROBABILIDAD', i.\"PROBABILIDAD\",\n",
    "    'REGION', i.\"REGION\",\n",
    "    'DEPARTAMENTO', i.\"DEPARTAMENTO\",\n",
    "\t  'FECHA_EJECUCION', i.\"FECHA_EJECUCION\",\n",
    "    'MUNICIPIO', i.\"MUNICIPIO\"\n",
    "  )\n",
    ") AS geom\n",
    "FROM incendios as i\n",
    "INNER JOIN mgn_mpio_politico as mg\n",
    "ON i.\"COD_DANE\" = mg.mpio_cdpmp;\n",
    "\n",
    "\"\"\"\n",
    "    try:\n",
    "        with engine.connect() as conn:\n",
    "            conn.execute(create_view_sql)\n",
    "            return(\"Vista creada exitosamente.\")\n",
    "    except SQLAlchemyError as e:\n",
    "        return(f\"Error al crear la vista: {e}\")"
   ]
  },
  {
   "cell_type": "code",
   "execution_count": 13,
   "id": "a7aba4a7",
   "metadata": {},
   "outputs": [
    {
     "data": {
      "text/plain": [
       "'Vista creada exitosamente.'"
      ]
     },
     "execution_count": 13,
     "metadata": {},
     "output_type": "execute_result"
    }
   ],
   "source": [
    "vista_incendios(url_conexion)"
   ]
  },
  {
   "cell_type": "code",
   "execution_count": 14,
   "id": "02480e61",
   "metadata": {},
   "outputs": [],
   "source": [
    "# Carga tu archivo SHP\n",
    "gdf = gpd.read_file(r'C:\\Users\\Ever Salazar\\Documents\\VisorAlertas\\server\\src\\Departamentos_WGS84\\Departamentos_WGS84.shp')\n",
    "\n",
    "# Configura la conexión a tu base de datos\n",
    "engine = create_engine(url_conexion)\n"
   ]
  },
  {
   "cell_type": "code",
   "execution_count": 19,
   "id": "68880cb4",
   "metadata": {},
   "outputs": [],
   "source": [
    "gdf = gdf.rename(columns=str.lower)\n"
   ]
  },
  {
   "cell_type": "code",
   "execution_count": 20,
   "id": "7caef6c1",
   "metadata": {},
   "outputs": [
    {
     "data": {
      "text/plain": [
       "Index(['acto_admin', 'observacio', 'departamen', 'cod_depart', 'shape_leng',\n",
       "       'shape_area', 'areaha', 'geometry'],\n",
       "      dtype='object')"
      ]
     },
     "execution_count": 20,
     "metadata": {},
     "output_type": "execute_result"
    }
   ],
   "source": [
    "gdf.columns"
   ]
  },
  {
   "cell_type": "code",
   "execution_count": 21,
   "id": "1e71fe07",
   "metadata": {},
   "outputs": [
    {
     "name": "stderr",
     "output_type": "stream",
     "text": [
      "C:\\Users\\Ever Salazar\\AppData\\Local\\Temp\\ipykernel_32220\\3342600575.py:2: UserWarning: Geometry column does not contain geometry.\n",
      "  gdf['geometry'] = gdf['geometry'].apply(lambda x: wkb.dumps(x, hex=True))\n"
     ]
    }
   ],
   "source": [
    "# Convertir la columna de geometría a WKB\n",
    "gdf['geometry'] = gdf['geometry'].apply(lambda x: wkb.dumps(x, hex=True))"
   ]
  },
  {
   "cell_type": "code",
   "execution_count": 22,
   "id": "fcd0d45b",
   "metadata": {},
   "outputs": [
    {
     "data": {
      "text/html": [
       "<div>\n",
       "<style scoped>\n",
       "    .dataframe tbody tr th:only-of-type {\n",
       "        vertical-align: middle;\n",
       "    }\n",
       "\n",
       "    .dataframe tbody tr th {\n",
       "        vertical-align: top;\n",
       "    }\n",
       "\n",
       "    .dataframe thead th {\n",
       "        text-align: right;\n",
       "    }\n",
       "</style>\n",
       "<table border=\"1\" class=\"dataframe\">\n",
       "  <thead>\n",
       "    <tr style=\"text-align: right;\">\n",
       "      <th></th>\n",
       "      <th>acto_admin</th>\n",
       "      <th>observacio</th>\n",
       "      <th>departamen</th>\n",
       "      <th>cod_depart</th>\n",
       "      <th>shape_leng</th>\n",
       "      <th>shape_area</th>\n",
       "      <th>areaha</th>\n",
       "      <th>geometry</th>\n",
       "    </tr>\n",
       "  </thead>\n",
       "  <tbody>\n",
       "    <tr>\n",
       "      <th>0</th>\n",
       "      <td>None</td>\n",
       "      <td>None</td>\n",
       "      <td>SAN ANDRÉS PROVIDENCIA Y SANTA CATALINA</td>\n",
       "      <td>88</td>\n",
       "      <td>0.652403</td>\n",
       "      <td>0.004074</td>\n",
       "      <td>0.0</td>\n",
       "      <td>0106000000030000000103000000010000005E04000050...</td>\n",
       "    </tr>\n",
       "    <tr>\n",
       "      <th>1</th>\n",
       "      <td>None</td>\n",
       "      <td>None</td>\n",
       "      <td>CAUCA</td>\n",
       "      <td>19</td>\n",
       "      <td>13.769394</td>\n",
       "      <td>2.534944</td>\n",
       "      <td>0.0</td>\n",
       "      <td>01060000000300000001030000000100000051000000C0...</td>\n",
       "    </tr>\n",
       "    <tr>\n",
       "      <th>2</th>\n",
       "      <td>None</td>\n",
       "      <td>None</td>\n",
       "      <td>ATLÁNTICO</td>\n",
       "      <td>08</td>\n",
       "      <td>2.529379</td>\n",
       "      <td>0.274446</td>\n",
       "      <td>0.0</td>\n",
       "      <td>01030000000100000073090000FC42989ED8B552C01E22...</td>\n",
       "    </tr>\n",
       "    <tr>\n",
       "      <th>3</th>\n",
       "      <td>None</td>\n",
       "      <td>None</td>\n",
       "      <td>RISARALDA</td>\n",
       "      <td>66</td>\n",
       "      <td>4.661057</td>\n",
       "      <td>0.290082</td>\n",
       "      <td>0.0</td>\n",
       "      <td>010300000001000000412200002830E03C870053C05582...</td>\n",
       "    </tr>\n",
       "    <tr>\n",
       "      <th>4</th>\n",
       "      <td>None</td>\n",
       "      <td>None</td>\n",
       "      <td>ANTIOQUIA</td>\n",
       "      <td>05</td>\n",
       "      <td>21.109882</td>\n",
       "      <td>5.147846</td>\n",
       "      <td>0.0</td>\n",
       "      <td>0103000000010000005E4F0000B48F7A27BD1953C0362A...</td>\n",
       "    </tr>\n",
       "    <tr>\n",
       "      <th>...</th>\n",
       "      <td>...</td>\n",
       "      <td>...</td>\n",
       "      <td>...</td>\n",
       "      <td>...</td>\n",
       "      <td>...</td>\n",
       "      <td>...</td>\n",
       "      <td>...</td>\n",
       "      <td>...</td>\n",
       "    </tr>\n",
       "    <tr>\n",
       "      <th>88</th>\n",
       "      <td>None</td>\n",
       "      <td>None</td>\n",
       "      <td>VALLE DEL CAUCA</td>\n",
       "      <td>76</td>\n",
       "      <td>12.222911</td>\n",
       "      <td>1.678614</td>\n",
       "      <td>0.0</td>\n",
       "      <td>01030000000100000032000000F8420C40534F53C06AF1...</td>\n",
       "    </tr>\n",
       "    <tr>\n",
       "      <th>89</th>\n",
       "      <td>None</td>\n",
       "      <td>None</td>\n",
       "      <td>VALLE DEL CAUCA</td>\n",
       "      <td>76</td>\n",
       "      <td>12.222911</td>\n",
       "      <td>1.678614</td>\n",
       "      <td>0.0</td>\n",
       "      <td>01030000000100000027000000CC4A0A80965B53C0D729...</td>\n",
       "    </tr>\n",
       "    <tr>\n",
       "      <th>90</th>\n",
       "      <td>None</td>\n",
       "      <td>None</td>\n",
       "      <td>VALLE DEL CAUCA</td>\n",
       "      <td>76</td>\n",
       "      <td>12.222911</td>\n",
       "      <td>1.678614</td>\n",
       "      <td>0.0</td>\n",
       "      <td>0103000000010000000C0000005C41F33FF35D53C09D2B...</td>\n",
       "    </tr>\n",
       "    <tr>\n",
       "      <th>91</th>\n",
       "      <td>None</td>\n",
       "      <td>None</td>\n",
       "      <td>VALLE DEL CAUCA</td>\n",
       "      <td>76</td>\n",
       "      <td>12.222911</td>\n",
       "      <td>1.678614</td>\n",
       "      <td>0.0</td>\n",
       "      <td>01030000000100000025000000BC900480835F53C06C2F...</td>\n",
       "    </tr>\n",
       "    <tr>\n",
       "      <th>92</th>\n",
       "      <td>None</td>\n",
       "      <td>None</td>\n",
       "      <td>VALLE DEL CAUCA</td>\n",
       "      <td>76</td>\n",
       "      <td>12.222911</td>\n",
       "      <td>1.678614</td>\n",
       "      <td>0.0</td>\n",
       "      <td>010300000001000000130000002494EB7FEE5F53C06BF0...</td>\n",
       "    </tr>\n",
       "  </tbody>\n",
       "</table>\n",
       "<p>93 rows × 8 columns</p>\n",
       "</div>"
      ],
      "text/plain": [
       "   acto_admin observacio                               departamen cod_depart  \\\n",
       "0        None       None  SAN ANDRÉS PROVIDENCIA Y SANTA CATALINA         88   \n",
       "1        None       None                                    CAUCA         19   \n",
       "2        None       None                                ATLÁNTICO         08   \n",
       "3        None       None                                RISARALDA         66   \n",
       "4        None       None                                ANTIOQUIA         05   \n",
       "..        ...        ...                                      ...        ...   \n",
       "88       None       None                          VALLE DEL CAUCA         76   \n",
       "89       None       None                          VALLE DEL CAUCA         76   \n",
       "90       None       None                          VALLE DEL CAUCA         76   \n",
       "91       None       None                          VALLE DEL CAUCA         76   \n",
       "92       None       None                          VALLE DEL CAUCA         76   \n",
       "\n",
       "    shape_leng  shape_area  areaha  \\\n",
       "0     0.652403    0.004074     0.0   \n",
       "1    13.769394    2.534944     0.0   \n",
       "2     2.529379    0.274446     0.0   \n",
       "3     4.661057    0.290082     0.0   \n",
       "4    21.109882    5.147846     0.0   \n",
       "..         ...         ...     ...   \n",
       "88   12.222911    1.678614     0.0   \n",
       "89   12.222911    1.678614     0.0   \n",
       "90   12.222911    1.678614     0.0   \n",
       "91   12.222911    1.678614     0.0   \n",
       "92   12.222911    1.678614     0.0   \n",
       "\n",
       "                                             geometry  \n",
       "0   0106000000030000000103000000010000005E04000050...  \n",
       "1   01060000000300000001030000000100000051000000C0...  \n",
       "2   01030000000100000073090000FC42989ED8B552C01E22...  \n",
       "3   010300000001000000412200002830E03C870053C05582...  \n",
       "4   0103000000010000005E4F0000B48F7A27BD1953C0362A...  \n",
       "..                                                ...  \n",
       "88  01030000000100000032000000F8420C40534F53C06AF1...  \n",
       "89  01030000000100000027000000CC4A0A80965B53C0D729...  \n",
       "90  0103000000010000000C0000005C41F33FF35D53C09D2B...  \n",
       "91  01030000000100000025000000BC900480835F53C06C2F...  \n",
       "92  010300000001000000130000002494EB7FEE5F53C06BF0...  \n",
       "\n",
       "[93 rows x 8 columns]"
      ]
     },
     "execution_count": 22,
     "metadata": {},
     "output_type": "execute_result"
    }
   ],
   "source": [
    "gdf"
   ]
  },
  {
   "cell_type": "code",
   "execution_count": null,
   "id": "78b8209e",
   "metadata": {},
   "outputs": [],
   "source": [
    "gdf.to_sql('intento', engine, if_exists='replace', index=False, \n",
    "           dtype={'geometry': Geometry(geometry_type='GEOMETRY', srid=4326)})"
   ]
  },
  {
   "cell_type": "code",
   "execution_count": null,
   "id": "8aa68777",
   "metadata": {},
   "outputs": [],
   "source": []
  }
 ],
 "metadata": {
  "kernelspec": {
   "display_name": "Python 3 (ipykernel)",
   "language": "python",
   "name": "python3"
  },
  "language_info": {
   "codemirror_mode": {
    "name": "ipython",
    "version": 3
   },
   "file_extension": ".py",
   "mimetype": "text/x-python",
   "name": "python",
   "nbconvert_exporter": "python",
   "pygments_lexer": "ipython3",
   "version": "3.11.5"
  }
 },
 "nbformat": 4,
 "nbformat_minor": 5
}
