{
 "cells": [
  {
   "cell_type": "code",
   "execution_count": 1,
   "id": "fdb65cf6",
   "metadata": {},
   "outputs": [],
   "source": [
    "import pandas as pd\n",
    "from sqlalchemy import create_engine\n",
    "import psycopg2\n",
    "import geopandas as gpd\n",
    "from geoalchemy2 import Geometry\n",
    "import shapely.wkb as wkb\n"
   ]
  },
  {
   "cell_type": "code",
   "execution_count": 2,
   "id": "cb906202",
   "metadata": {},
   "outputs": [],
   "source": [
    "# Leer el archivo CSV\n",
    "df_incendios = pd.read_csv(r'G:\\Mi unidad\\OSPA\\01. Tematicas\\04. Incendios\\01. Productos\\postmodelo_icv\\temporales\\probabilidad_icv.csv', sep=';', encoding='utf-8')\n",
    "df_deslizamientos = pd.read_csv(r'G:\\Mi unidad\\OSPA\\01. Tematicas\\03. Deslizamientos\\01. Productos\\postmodelo_idd\\temporales\\probabilidad_idd.csv', sep=';', encoding='utf-8')\n"
   ]
  },
  {
   "cell_type": "code",
   "execution_count": 3,
   "id": "0f522951",
   "metadata": {},
   "outputs": [],
   "source": [
    "# Crear una conexión a la base de datos\n",
    "usuario = 'postgres'\n",
    "contraseña = 'Septiembre0672'\n",
    "host = 'localhost'\n",
    "puerto = '5432'\n",
    "db = 'alertas'\n",
    "url_conexion = f'postgresql://{usuario}:{contraseña}@{host}:{puerto}/{db}'"
   ]
  },
  {
   "cell_type": "code",
   "execution_count": 4,
   "id": "bab721d6",
   "metadata": {},
   "outputs": [],
   "source": [
    "def alertas_incendios(url, df_incendios):\n",
    "    try:\n",
    "        engine = create_engine(url_conexion)\n",
    "        return df_incendios.to_sql('incendios', con=engine, if_exists='replace', index=False)\n",
    "    except:\n",
    "        engine = create_engine(url_conexion)\n",
    "        # Eliminar los registros existentes de la tabla 'incendios'\n",
    "        with engine.connect() as conn:\n",
    "            conn.execute(\"DELETE FROM incendios\")\n",
    "        return df_incendios.to_sql('incendios', con=engine, if_exists='append', index=False)"
   ]
  },
  {
   "cell_type": "code",
   "execution_count": 5,
   "id": "1f119955",
   "metadata": {},
   "outputs": [
    {
     "data": {
      "text/plain": [
       "113"
      ]
     },
     "execution_count": 5,
     "metadata": {},
     "output_type": "execute_result"
    }
   ],
   "source": [
    "alertas_incendios(url_conexion, df_incendios)"
   ]
  },
  {
   "cell_type": "code",
   "execution_count": 6,
   "id": "1c69b095",
   "metadata": {},
   "outputs": [],
   "source": [
    "def alertas_deslizamientos(url, df_deslizamientos):\n",
    "    try:\n",
    "        engine = create_engine(url_conexion)\n",
    "        return df_deslizamientos.to_sql('deslizamientos', con=engine, if_exists='replace', index=False)\n",
    "    except:\n",
    "        engine = create_engine(url_conexion)\n",
    "        # Eliminar los registros existentes de la tabla 'incendios'\n",
    "        with engine.connect() as conn:\n",
    "            conn.execute(\"DELETE FROM deslizamientos\")\n",
    "        return df_deslizamientos.to_sql('deslizamientos', con=engine, if_exists='append', index=False)"
   ]
  },
  {
   "cell_type": "code",
   "execution_count": 7,
   "id": "ad569105",
   "metadata": {},
   "outputs": [
    {
     "data": {
      "text/plain": [
       "69"
      ]
     },
     "execution_count": 7,
     "metadata": {},
     "output_type": "execute_result"
    }
   ],
   "source": [
    "alertas_deslizamientos(url_conexion, df_deslizamientos)"
   ]
  },
  {
   "cell_type": "code",
   "execution_count": 8,
   "id": "8798f6eb",
   "metadata": {},
   "outputs": [],
   "source": [
    "def vista_departamentos(url_conexion):\n",
    "    \n",
    "    engine = create_engine(url_conexion)\n",
    "    \n",
    "    create_view_sql = \"\"\"\n",
    "CREATE OR REPLACE VIEW departamentos_colombia AS\n",
    "SELECT departamen, jsonb_build_object(\n",
    "  'type',       'Feature',\n",
    "  'geometry',   ST_AsGeoJSON(geom, 4)::jsonb,\n",
    "  'properties', jsonb_build_object(\n",
    "    'DEPARTAMENTO', departamen\n",
    "  )\n",
    ") AS geom\n",
    "FROM public.departamentos_wgs84\n",
    "\n",
    "\"\"\"\n",
    "    try:\n",
    "        with engine.connect() as conn:\n",
    "            conn.execute(create_view_sql)\n",
    "            return(\"Vista creada exitosamente.\")\n",
    "    except SQLAlchemyError as e:\n",
    "        return(f\"Error al crear la vista: {e}\")"
   ]
  },
  {
   "cell_type": "code",
   "execution_count": 9,
   "id": "af0a9950",
   "metadata": {},
   "outputs": [
    {
     "data": {
      "text/plain": [
       "'Vista creada exitosamente.'"
      ]
     },
     "execution_count": 9,
     "metadata": {},
     "output_type": "execute_result"
    }
   ],
   "source": [
    "vista_departamentos(url_conexion)"
   ]
  },
  {
   "cell_type": "code",
   "execution_count": 10,
   "id": "deda3a71",
   "metadata": {},
   "outputs": [],
   "source": [
    "def vista_deslizamientos(url_conexion):\n",
    "    \n",
    "    engine = create_engine(url_conexion)\n",
    "    \n",
    "    create_view_sql = \"\"\"\n",
    "CREATE OR REPLACE VIEW alertas_deslizamientos AS\n",
    "SELECT d.*,\n",
    "jsonb_build_object(\n",
    "  'type', 'Feature',\n",
    "  'geometry', ST_AsGeoJSON(ST_GeometryN(mg.geom, 1), 4)::jsonb,\n",
    "  'properties', jsonb_build_object(\n",
    "    'PROBABILIDAD_DESC', CASE\n",
    "                           WHEN d.\"PROBABILIDAD\" = 1 THEN 'BAJA'\n",
    "                           WHEN d.\"PROBABILIDAD\" = 2 THEN 'MEDIA'\n",
    "                           WHEN d.\"PROBABILIDAD\" = 3 THEN 'ALTA'\n",
    "                           ELSE 'no definida' -- Opcional: para valores distintos de 1, 2 o 3\n",
    "                         END,\n",
    "    'PROBABILIDAD', d.\"PROBABILIDAD\",\n",
    "    'REGION', d.\"REGION\",\n",
    "    'DEPARTAMENTO', d.\"DEPARTAMENTO\",\n",
    "    'MUNICIPIO', d.\"MUNICIPIO\",\n",
    "\t  'FECHA_EJECUCION', d.\"FECHA_EJECUCION\"\n",
    "  )\n",
    ") AS geom\n",
    "FROM deslizamientos AS d\n",
    "INNER JOIN mgn_mpio_politico AS mg\n",
    "ON d.\"COD_DANE\" = mg.mpio_cdpmp;\n",
    "\n",
    "\"\"\"\n",
    "    try:\n",
    "        with engine.connect() as conn:\n",
    "            conn.execute(create_view_sql)\n",
    "            return(\"Vista creada exitosamente.\")\n",
    "    except SQLAlchemyError as e:\n",
    "        return(f\"Error al crear la vista: {e}\")"
   ]
  },
  {
   "cell_type": "code",
   "execution_count": 11,
   "id": "4ed0827b",
   "metadata": {},
   "outputs": [
    {
     "data": {
      "text/plain": [
       "'Vista creada exitosamente.'"
      ]
     },
     "execution_count": 11,
     "metadata": {},
     "output_type": "execute_result"
    }
   ],
   "source": [
    "vista_deslizamientos(url_conexion)"
   ]
  },
  {
   "cell_type": "code",
   "execution_count": 12,
   "id": "bcc5f476",
   "metadata": {},
   "outputs": [],
   "source": [
    "def vista_incendios(url_conexion):\n",
    "    \n",
    "    engine = create_engine(url_conexion)\n",
    "    \n",
    "    create_view_sql = \"\"\"\n",
    "CREATE OR REPLACE VIEW alertas_incendios AS\n",
    "SELECT i.*, jsonb_build_object(\n",
    "  'type',       'Feature',\n",
    "  'geometry',   ST_AsGeoJSON(ST_GeometryN(mg.geom, 1), 4)::jsonb,\n",
    "  'properties', jsonb_build_object(\n",
    "\t 'PROBABILIDAD_DESC', CASE\n",
    "                           WHEN i.\"PROBABILIDAD\" = 1 THEN 'BAJA'\n",
    "                           WHEN i.\"PROBABILIDAD\" = 2 THEN 'MEDIA'\n",
    "                           WHEN i.\"PROBABILIDAD\" = 3 THEN 'ALTA'\n",
    "                           ELSE 'no definida' -- Opcional: para valores distintos de 1, 2 o 3\n",
    "                         END,\n",
    "    'PROBABILIDAD', i.\"PROBABILIDAD\",\n",
    "    'REGION', i.\"REGION\",\n",
    "    'DEPARTAMENTO', i.\"DEPARTAMENTO\",\n",
    "\t  'FECHA_EJECUCION', i.\"FECHA_EJECUCION\",\n",
    "    'MUNICIPIO', i.\"MUNICIPIO\"\n",
    "  )\n",
    ") AS geom\n",
    "FROM incendios as i\n",
    "INNER JOIN mgn_mpio_politico as mg\n",
    "ON i.\"COD_DANE\" = mg.mpio_cdpmp;\n",
    "\n",
    "\"\"\"\n",
    "    try:\n",
    "        with engine.connect() as conn:\n",
    "            conn.execute(create_view_sql)\n",
    "            return(\"Vista creada exitosamente.\")\n",
    "    except SQLAlchemyError as e:\n",
    "        return(f\"Error al crear la vista: {e}\")"
   ]
  },
  {
   "cell_type": "code",
   "execution_count": 13,
   "id": "a7aba4a7",
   "metadata": {},
   "outputs": [
    {
     "data": {
      "text/plain": [
       "'Vista creada exitosamente.'"
      ]
     },
     "execution_count": 13,
     "metadata": {},
     "output_type": "execute_result"
    }
   ],
   "source": [
    "vista_incendios(url_conexion)"
   ]
  },
  {
   "cell_type": "code",
   "execution_count": null,
   "id": "8aa68777",
   "metadata": {},
   "outputs": [],
   "source": []
  }
 ],
 "metadata": {
  "kernelspec": {
   "display_name": "Python 3 (ipykernel)",
   "language": "python",
   "name": "python3"
  },
  "language_info": {
   "codemirror_mode": {
    "name": "ipython",
    "version": 3
   },
   "file_extension": ".py",
   "mimetype": "text/x-python",
   "name": "python",
   "nbconvert_exporter": "python",
   "pygments_lexer": "ipython3",
   "version": "3.11.5"
  }
 },
 "nbformat": 4,
 "nbformat_minor": 5
}
